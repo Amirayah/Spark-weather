{
 "cells": [
  {
   "cell_type": "code",
   "execution_count": 37,
   "metadata": {},
   "outputs": [],
   "source": [
    "import pyspark\n",
    "import findspark\n",
    "import time\n",
    "import os\n",
    "import csv\n",
    "from numpy import array\n",
    "from pyspark import SparkContext, SparkConf\n",
    "import re\n",
    "from pyspark.sql.functions import udf\n",
    "from pyspark.sql.types import IntegerType\n",
    "from pyspark.sql import functions as F"
   ]
  },
  {
   "cell_type": "code",
   "execution_count": 48,
   "metadata": {},
   "outputs": [],
   "source": [
    "findspark.init()\n",
    "from pyspark.sql import SparkSession\n",
    "spark = SparkSession.builder.master(\"local\").getOrCreate()"
   ]
  },
  {
   "cell_type": "code",
   "execution_count": 46,
   "metadata": {},
   "outputs": [],
   "source": [
    "df1 = spark.read.csv(\"weather01.txt\", inferSchema = True, header = True)\n",
    "#df2 = spark.read.csv(\"weather02.txt\", inferSchema = True, header = True)\n",
    "#df3 = spark.read.csv(\"weather03.txt\", inferSchema = True, header = True)\n",
    "#df4 = spark.read.csv(\"weather04.txt\", inferSchema = True, header = True)\n",
    "#df5 = spark.read.csv(\"weather05.txt\", inferSchema = True, header = True)\n",
    "#df6 = spark.read.csv(\"weather06.txt\", inferSchema = True, header = True)"
   ]
  },
  {
   "cell_type": "code",
   "execution_count": null,
   "metadata": {},
   "outputs": [],
   "source": []
  },
  {
   "cell_type": "code",
   "execution_count": null,
   "metadata": {},
   "outputs": [],
   "source": []
  },
  {
   "cell_type": "code",
   "execution_count": 26,
   "metadata": {},
   "outputs": [
    {
     "data": {
      "text/plain": [
       "pyspark.sql.dataframe.DataFrame"
      ]
     },
     "execution_count": 26,
     "metadata": {},
     "output_type": "execute_result"
    }
   ],
   "source": [
    "type(df1)"
   ]
  },
  {
   "cell_type": "code",
   "execution_count": 27,
   "metadata": {},
   "outputs": [
    {
     "name": "stdout",
     "output_type": "stream",
     "text": [
      "root\n",
      " |--       X year month                   measure                X1        X2: string (nullable = true)\n",
      "\n"
     ]
    }
   ],
   "source": [
    "df1.printSchema()"
   ]
  },
  {
   "cell_type": "code",
   "execution_count": 28,
   "metadata": {},
   "outputs": [
    {
     "data": {
      "text/plain": [
       "[Row(      X year month                   measure                X1        X2='1     1 2014    12          Max.TemperatureF                64        42'),\n",
       " Row(      X year month                   measure                X1        X2='2     2 2014    12         Mean.TemperatureF                52        38'),\n",
       " Row(      X year month                   measure                X1        X2='3     3 2014    12          Min.TemperatureF                39        33'),\n",
       " Row(      X year month                   measure                X1        X2='4     4 2014    12            Max.Dew.PointF                46        40'),\n",
       " Row(      X year month                   measure                X1        X2='5     5 2014    12            MeanDew.PointF                40        27')]"
      ]
     },
     "execution_count": 28,
     "metadata": {},
     "output_type": "execute_result"
    }
   ],
   "source": [
    "df1.head(5)"
   ]
  },
  {
   "cell_type": "code",
   "execution_count": 30,
   "metadata": {},
   "outputs": [
    {
     "name": "stdout",
     "output_type": "stream",
     "text": [
      "+------------------------------------------------------------------------+\n",
      "|      X year month                   measure                X1        X2|\n",
      "+------------------------------------------------------------------------+\n",
      "|                                                    1     1 2014    1...|\n",
      "|                                                    2     2 2014    1...|\n",
      "|                                                    3     3 2014    1...|\n",
      "|                                                    4     4 2014    1...|\n",
      "|                                                    5     5 2014    1...|\n",
      "+------------------------------------------------------------------------+\n",
      "only showing top 5 rows\n",
      "\n"
     ]
    }
   ],
   "source": [
    "df1.show(5, truncate = True)"
   ]
  },
  {
   "cell_type": "code",
   "execution_count": 32,
   "metadata": {},
   "outputs": [
    {
     "data": {
      "text/plain": [
       "286"
      ]
     },
     "execution_count": 32,
     "metadata": {},
     "output_type": "execute_result"
    }
   ],
   "source": [
    "df1.count()"
   ]
  },
  {
   "cell_type": "code",
   "execution_count": 34,
   "metadata": {},
   "outputs": [
    {
     "data": {
      "text/plain": [
       "(1,\n",
       " ['      X year month                   measure                X1        X2'])"
      ]
     },
     "execution_count": 34,
     "metadata": {},
     "output_type": "execute_result"
    }
   ],
   "source": [
    "len(df1.columns), df1.columns"
   ]
  },
  {
   "cell_type": "code",
   "execution_count": null,
   "metadata": {},
   "outputs": [],
   "source": []
  }
 ],
 "metadata": {
  "kernelspec": {
   "display_name": "Python 3",
   "language": "python",
   "name": "python3"
  },
  "language_info": {
   "codemirror_mode": {
    "name": "ipython",
    "version": 3
   },
   "file_extension": ".py",
   "mimetype": "text/x-python",
   "name": "python",
   "nbconvert_exporter": "python",
   "pygments_lexer": "ipython3",
   "version": "3.7.1"
  }
 },
 "nbformat": 4,
 "nbformat_minor": 2
}
